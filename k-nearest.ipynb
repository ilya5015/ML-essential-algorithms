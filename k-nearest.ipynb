{
 "cells": [
  {
   "cell_type": "code",
   "execution_count": 36,
   "id": "5c1e1299",
   "metadata": {},
   "outputs": [],
   "source": [
    "from typing import List\n",
    "from collections import Counter"
   ]
  },
  {
   "cell_type": "code",
   "execution_count": 37,
   "id": "16064b6a",
   "metadata": {},
   "outputs": [],
   "source": [
    "def majority_vote(labels) -> str:\n",
    "    \"\"\"Исходя из того, что метки упорядочены от ближайшей до удаленной\"\"\"\n",
    "    vote_counts = Counter(labels)\n",
    "    winner, winner_count = vote_counts.most_common(1)[0]\n",
    "    num_winners = len([count for count in vote_counts.values() if count == winner_count])\n",
    "    if num_winners == 1:\n",
    "        return winner # Уникальный победитель\n",
    "    else:\n",
    "        return majority_vote(labels[:-1]) # Новая попытка без самой удаленной точки"
   ]
  },
  {
   "cell_type": "code",
   "execution_count": 38,
   "id": "437e07eb",
   "metadata": {},
   "outputs": [],
   "source": [
    "from typing import NamedTuple\n",
    "\n",
    "class LabeledPoint(NamedTuple):\n",
    "    def knn_classify(k, labeled_points, new_point):\n",
    "        # Упорядочить точки от ближайшей к дальней\n",
    "        by_distance = sorted(labeled_points, key = lambda lp: distance(lp.point, new_point))\n",
    "        \n",
    "        # Отыскать метки для k ближайших\n",
    "        k_nearest_labels = [lp.label for lp in by_distance[:k]]\n",
    "        \n",
    "        return majority_vote(k_nearest_labels)"
   ]
  },
  {
   "cell_type": "markdown",
   "id": "e52f30f8",
   "metadata": {},
   "source": [
    "Протестируем работу классификатора"
   ]
  },
  {
   "cell_type": "code",
   "execution_count": 39,
   "id": "f86dc7ce",
   "metadata": {},
   "outputs": [],
   "source": [
    "import requests\n",
    "from ucimlrepo import fetch_ucirepo \n",
    "import csv\n",
    "from collections import defaultdict"
   ]
  },
  {
   "cell_type": "code",
   "execution_count": 40,
   "id": "ea1d76e3",
   "metadata": {},
   "outputs": [],
   "source": [
    "data = fetch_ucirepo(id=53) "
   ]
  },
  {
   "cell_type": "code",
   "execution_count": 41,
   "id": "bd118005",
   "metadata": {},
   "outputs": [],
   "source": [
    "def parse_iris_row(row) -> LabeledPoint:\n",
    "    \"\"\"Длина цветка, ширина цветка, длина лепестка, ширина лепестка, класс\"\"\"\n",
    "    measurements = [float(value) for value in row[:-1]]\n",
    "    label = row[-1].split(\"-\")[-1]\n",
    "    \n",
    "    return LabeledPoint(measurements, label)"
   ]
  },
  {
   "cell_type": "code",
   "execution_count": 44,
   "id": "3dbdcc11",
   "metadata": {},
   "outputs": [
    {
     "ename": "TypeError",
     "evalue": "unhashable type: 'DataFrame'",
     "output_type": "error",
     "traceback": [
      "\u001b[1;31m---------------------------------------------------------------------------\u001b[0m",
      "\u001b[1;31mTypeError\u001b[0m                                 Traceback (most recent call last)",
      "Cell \u001b[1;32mIn[44], line 1\u001b[0m\n\u001b[1;32m----> 1\u001b[0m \u001b[38;5;28;01mwith\u001b[39;00m \u001b[38;5;28mopen\u001b[39m(data\u001b[38;5;241m.\u001b[39mdata\u001b[38;5;241m.\u001b[39mfeatures) \u001b[38;5;28;01mas\u001b[39;00m f:\n\u001b[0;32m      2\u001b[0m     reader \u001b[38;5;241m=\u001b[39m csv\u001b[38;5;241m.\u001b[39mreader(f)\n\u001b[0;32m      3\u001b[0m     \u001b[38;5;28mprint\u001b[39m(reader)\n",
      "File \u001b[1;32m~\\anaconda3\\Lib\\site-packages\\IPython\\core\\interactiveshell.py:279\u001b[0m, in \u001b[0;36m_modified_open\u001b[1;34m(file, *args, **kwargs)\u001b[0m\n\u001b[0;32m    277\u001b[0m \u001b[38;5;129m@functools\u001b[39m\u001b[38;5;241m.\u001b[39mwraps(io_open)\n\u001b[0;32m    278\u001b[0m \u001b[38;5;28;01mdef\u001b[39;00m \u001b[38;5;21m_modified_open\u001b[39m(file, \u001b[38;5;241m*\u001b[39margs, \u001b[38;5;241m*\u001b[39m\u001b[38;5;241m*\u001b[39mkwargs):\n\u001b[1;32m--> 279\u001b[0m     \u001b[38;5;28;01mif\u001b[39;00m file \u001b[38;5;129;01min\u001b[39;00m {\u001b[38;5;241m0\u001b[39m, \u001b[38;5;241m1\u001b[39m, \u001b[38;5;241m2\u001b[39m}:\n\u001b[0;32m    280\u001b[0m         \u001b[38;5;28;01mraise\u001b[39;00m \u001b[38;5;167;01mValueError\u001b[39;00m(\n\u001b[0;32m    281\u001b[0m             \u001b[38;5;124mf\u001b[39m\u001b[38;5;124m\"\u001b[39m\u001b[38;5;124mIPython won\u001b[39m\u001b[38;5;124m'\u001b[39m\u001b[38;5;124mt let you open fd=\u001b[39m\u001b[38;5;132;01m{\u001b[39;00mfile\u001b[38;5;132;01m}\u001b[39;00m\u001b[38;5;124m by default \u001b[39m\u001b[38;5;124m\"\u001b[39m\n\u001b[0;32m    282\u001b[0m             \u001b[38;5;124m\"\u001b[39m\u001b[38;5;124mas it is likely to crash IPython. If you know what you are doing, \u001b[39m\u001b[38;5;124m\"\u001b[39m\n\u001b[0;32m    283\u001b[0m             \u001b[38;5;124m\"\u001b[39m\u001b[38;5;124myou can use builtins\u001b[39m\u001b[38;5;124m'\u001b[39m\u001b[38;5;124m open.\u001b[39m\u001b[38;5;124m\"\u001b[39m\n\u001b[0;32m    284\u001b[0m         )\n\u001b[0;32m    286\u001b[0m     \u001b[38;5;28;01mreturn\u001b[39;00m io_open(file, \u001b[38;5;241m*\u001b[39margs, \u001b[38;5;241m*\u001b[39m\u001b[38;5;241m*\u001b[39mkwargs)\n",
      "\u001b[1;31mTypeError\u001b[0m: unhashable type: 'DataFrame'"
     ]
    }
   ],
   "source": [
    "with open(data.data.features) as f:\n",
    "    reader = csv.reader(f)\n",
    "    print(reader)\n",
    "    iris_data = [parse_iris_row(row) for row in reader if len(row) > 10]\n",
    "    print(iris_data)\n",
    "    points_by_species = defaultdict(list)\n",
    "    for iris in iris_data:\n",
    "        points_by_species[iris.label].append(iris.point)"
   ]
  },
  {
   "cell_type": "code",
   "execution_count": 45,
   "id": "9bcf416a",
   "metadata": {},
   "outputs": [
    {
     "data": {
      "image/png": "[encoded data removed]",
      "text/plain": [
       "<Figure size 640x480 with 6 Axes>"
      ]
     },
     "metadata": {},
     "output_type": "display_data"
    }
   ],
   "source": [
    "from matplotlib import pyplot as plt\n",
    "metrics = ['длн. цветка', 'шир. цветка', 'длн. лепестка', 'шир. лепестка']\n",
    "pairs = [(i, j) for i in range(4) for j in range(4) if i < j]\n",
    "marks = ['+', '.', 'x']\n",
    "\n",
    "fig, ax = plt.subplots(2, 3)\n",
    "\n",
    "for row in range(2):\n",
    "    for col in range(3):\n",
    "        i, j = pairs[3 * row + col]\n",
    "        ax[row][col].set_title(f\"{metrics[i]} против {metrics[j]}\", fontsize = 8)\n",
    "        ax[row][col].set_xticks([])\n",
    "        ax[row][col].set_yticks([])\n",
    "        \n",
    "        for mark, (species, points) in zip(marks, points_by_species.items()):\n",
    "            xs = [point[i] for point in points]\n",
    "            ys = [point[j] for point in points]\n",
    "            ax[row][col].scatter(xs, ys, marker = mark, label = species)\n",
    "\n",
    "plt.show()"
   ]
  },
  {
   "cell_type": "code",
   "execution_count": null,
   "id": "e63d5b6a",
   "metadata": {},
   "outputs": [],
   "source": []
  },
  {
   "cell_type": "code",
   "execution_count": null,
   "id": "6904e58b",
   "metadata": {},
   "outputs": [],
   "source": []
  }
 ],
 "metadata": {
  "kernelspec": {
   "display_name": "Python 3 (ipykernel)",
   "language": "python",
   "name": "python3"
  },
  "language_info": {
   "codemirror_mode": {
    "name": "ipython",
    "version": 3
   },
   "file_extension": ".py",
   "mimetype": "text/x-python",
   "name": "python",
   "nbconvert_exporter": "python",
   "pygments_lexer": "ipython3",
   "version": "3.11.5"
  }
 },
 "nbformat": 4,
 "nbformat_minor": 5
}
