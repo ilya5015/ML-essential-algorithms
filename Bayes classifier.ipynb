{
 "cells": [
  {
   "cell_type": "code",
   "execution_count": 1,
   "id": "15d87381",
   "metadata": {},
   "outputs": [],
   "source": [
    "from typing import Set, List, Tuple, Dict, Iterable\n",
    "import re\n",
    "from typing import NamedTuple\n",
    "import math\n",
    "from collections import defaultdict"
   ]
  },
  {
   "cell_type": "code",
   "execution_count": 2,
   "id": "690325d8",
   "metadata": {},
   "outputs": [],
   "source": [
    "# Токенизация сообщений\n",
    "def tokenize(text: str) -> Set[str]:\n",
    "    text = text.lower()\n",
    "    all_words = re.findall(\"[a-z0-9']+\", text) # Извлечь слова\n",
    "    return set(all_words)   # Удалить повторы"
   ]
  },
  {
   "cell_type": "code",
   "execution_count": 3,
   "id": "92e97272",
   "metadata": {},
   "outputs": [],
   "source": [
    "class Message(NamedTuple):\n",
    "    text: str\n",
    "    is_spam: bool"
   ]
  },
  {
   "cell_type": "code",
   "execution_count": 4,
   "id": "093f40b7",
   "metadata": {},
   "outputs": [],
   "source": [
    "class NaiveBayesClassifier:\n",
    "    def __init__(self, k: float = 0.5) -> None:\n",
    "        self.k = k  # Сглаживающий фильтр\n",
    "\n",
    "        self.tokens: Set[str] = set()\n",
    "        self.token_spam_counts: Dict[str, int] = defaultdict(int)\n",
    "        self.token_ham_counts: Dict[str, int] = defaultdict(int)\n",
    "        self.spam_messages = self.ham_messages = 0\n",
    "    def train(self, messages: Iterable[Message]) -> None:\n",
    "        for message in messages:\n",
    "            # Увеличение количества сообщений\n",
    "            if message.is_spam:\n",
    "                self.spam_messages += 1\n",
    "            else:\n",
    "                self.ham_messages += 1\n",
    "\n",
    "            # Увеличение количества появлений слов\n",
    "            for token in tokenize(message.text):\n",
    "                self.tokens.add(token)\n",
    "                if message.is_spam:\n",
    "                    self.token_spam_counts[token] += 1\n",
    "                else:\n",
    "                    self.token_ham_counts[token] += 1\n",
    "    def _probabilities(self, token: str) -> Tuple[float, float]:\n",
    "        \"\"\"Возвращает P(лексема | спам) и P(лексема | неспам)\"\"\"\n",
    "        spam = self.token_spam_counts[token]\n",
    "        ham = self.token_ham_counts[token]\n",
    "\n",
    "        p_token_spam = (spam + self.k) / (self.spam_messages + 2 * self.k)\n",
    "        p_token_ham = (ham + self.k) / (self.ham_messages + 2 * self.k)\n",
    "\n",
    "        return p_token_spam, p_token_ham\n",
    "    def predict(self, text: str) -> float:\n",
    "        text_tokens = tokenize(text)\n",
    "        log_prob_if_spam = log_prob_if_ham = 0.0\n",
    "\n",
    "        # Перебрать все слова в лексиконе\n",
    "        for token in self.tokens:\n",
    "            prob_if_spam, prob_if_ham = self._probabilities(token)\n",
    "            # Если лексема появляется в сообщении, то добавить лог. вероятность ее встретить\n",
    "            if token in text_tokens:\n",
    "                log_prob_if_spam += math.log(prob_if_spam)\n",
    "                log_prob_if_ham += math.log(prob_if_ham)\n",
    "            # В противном случае добавить лог. вероятность ее не встретить\n",
    "            else:\n",
    "                log_prob_if_spam += math.log(1.0 - prob_if_spam)\n",
    "                log_prob_if_ham += math.log(1.0 - prob_if_ham)\n",
    "\n",
    "        prob_if_spam = math.exp(log_prob_if_spam)\n",
    "        prob_if_ham = math.exp(log_prob_if_ham)\n",
    "        return prob_if_spam / (prob_if_spam + prob_if_ham)"
   ]
  },
  {
   "cell_type": "code",
   "execution_count": 5,
   "id": "0666339d",
   "metadata": {},
   "outputs": [],
   "source": [
    "messages = [Message(\"spam rules\", is_spam=True),\n",
    "            Message(\"ham rules\", is_spam=False),\n",
    "            Message(\"hello ham\", is_spam=False)]\n",
    "model = NaiveBayesClassifier(k = 0.5)\n",
    "model.train(messages)"
   ]
  },
  {
   "cell_type": "code",
   "execution_count": 7,
   "id": "766fbf69",
   "metadata": {},
   "outputs": [
    {
     "name": "stdout",
     "output_type": "stream",
     "text": [
      "0.8350515463917526\n"
     ]
    }
   ],
   "source": [
    "# Предсказание классификатора\n",
    "text = \"hello spam\"\n",
    "model_prediction = model.predict(text)\n",
    "print(model_prediction)"
   ]
  },
  {
   "cell_type": "code",
   "execution_count": 9,
   "id": "a8df72b3",
   "metadata": {},
   "outputs": [
    {
     "name": "stdout",
     "output_type": "stream",
     "text": [
      "0.8350515463917525\n"
     ]
    }
   ],
   "source": [
    "# Предсказание по формуле Байеса\n",
    "probs_if_spam = [\n",
    "    (1+0.5) / (1 + 2 * 0.5),\n",
    "    1 - (0 + 0.5) / (1 + 2 * 0.5),\n",
    "    1 - (1 + 0.5) / (1 + 2 * 0.5),\n",
    "    (0 + 0.5) / (1 + 2 * 0.5)\n",
    "]\n",
    "\n",
    "probs_if_ham = [\n",
    "    (0 + 0.5) / (2 + 2 * 0.5),\n",
    "    1 - (2 + 0.5) / (2 + 2 * 0.5),\n",
    "    1 - (1 + 0.5) / (2 + 2 * 0.5),\n",
    "    (1 + 0.5) / (2 + 2 * 0.5)\n",
    "]\n",
    "\n",
    "p_if_spam = math.exp(sum(math.log(p) for p in probs_if_spam))\n",
    "p_if_ham = math.exp(sum(math.log(p) for p in probs_if_ham))\n",
    "print(p_if_spam / (p_if_spam + p_if_ham))"
   ]
  },
  {
   "cell_type": "markdown",
   "id": "c962d318",
   "metadata": {},
   "source": [
    "<p>Как видно, результаты предсказаниz по формуле Байеса и результаты обученной модели совпадают</p>"
   ]
  },
  {
   "cell_type": "code",
   "execution_count": null,
   "id": "ce9cb398",
   "metadata": {},
   "outputs": [],
   "source": []
  }
 ],
 "metadata": {
  "kernelspec": {
   "display_name": "Python 3 (ipykernel)",
   "language": "python",
   "name": "python3"
  },
  "language_info": {
   "codemirror_mode": {
    "name": "ipython",
    "version": 3
   },
   "file_extension": ".py",
   "mimetype": "text/x-python",
   "name": "python",
   "nbconvert_exporter": "python",
   "pygments_lexer": "ipython3",
   "version": "3.11.5"
  }
 },
 "nbformat": 4,
 "nbformat_minor": 5
}
