{
 "cells": [
  {
   "cell_type": "code",
   "execution_count": 47,
   "id": "d87894b2",
   "metadata": {},
   "outputs": [],
   "source": [
    "def predict(alpha: float, beta: float, x_i: float) -> float:\n",
    "    return beta * x_i + alpha"
   ]
  },
  {
   "cell_type": "code",
   "execution_count": 48,
   "id": "15d94dd9",
   "metadata": {},
   "outputs": [],
   "source": [
    "def error(alpha: float, beta: float, x_i: float, y_i: float) -> float:\n",
    "    \"\"\"Ошибка предсказания beta * x_i + alpha, когда фактическое значение равно y_i\"\"\"\n",
    "    return predict(alpha, beta, x_i) - y_i"
   ]
  },
  {
   "cell_type": "code",
   "execution_count": 49,
   "id": "aed09b79",
   "metadata": {},
   "outputs": [],
   "source": [
    "# Для того, чтобы узнать суммарную ошибку по набору, суммируем квадратические ошибки\n",
    "from typing import List\n",
    "Vector = List[float]\n",
    "\n",
    "def sum_of_sqerrors(alpha: float, beta: float, x: Vector, y: Vector) -> float:\n",
    "    return sum(error(alpha, beta, x_i, y_i) ** 2 for x_i, y_i in zip(x, y))"
   ]
  },
  {
   "cell_type": "code",
   "execution_count": 50,
   "id": "8e7749c0",
   "metadata": {},
   "outputs": [],
   "source": [
    "from typing import Tuple\n",
    "import numpy as np\n",
    "\n",
    "def least_squares_fit(x, y) -> Tuple[float, float]:\n",
    "    \"\"\"Учитывая векторы x и y, найдем значения alpha и beta по наименьшим квадратам\"\"\"\n",
    "    beta = np.corrcoef(x, y)[0][0] * np.std(y) / np.std(x)\n",
    "    alpha = np.mean(y) - beta * np.mean(x)\n",
    "    return alpha, beta\n",
    "# alpha - когда видим среднее значение независимой переменной x, предсказываем среднее значение y\n",
    "# beta - когда входное значение увеличивается на стандартное отклонение, предсказание \n",
    "# увеличивается на корреляцию * стандартное отклонение"
   ]
  },
  {
   "cell_type": "code",
   "execution_count": 51,
   "id": "fde3bb3e",
   "metadata": {},
   "outputs": [
    {
     "name": "stdout",
     "output_type": "stream",
     "text": [
      "(-5.0, 2.9999999999999996)\n"
     ]
    }
   ],
   "source": [
    "x = [i for i in range(-100, 110, 10)]\n",
    "y = [3 * i - 5 for i in x]\n",
    "\n",
    "print(least_squares_fit(x, y))"
   ]
  },
  {
   "cell_type": "code",
   "execution_count": 54,
   "id": "ea8019ea",
   "metadata": {},
   "outputs": [],
   "source": [
    "# Коэффициент детерминации, измерение доли суммарной вариации в зависимой переменной, улавливаемой моделью\n",
    "def total_sum_of_squares(y) -> float:\n",
    "    \"\"\"Полная сумма квадратов отклонений y_i от их среднего\"\"\"\n",
    "    return sum(np.mean(v) ** 2 for v in y)\n",
    "\n",
    "def r_squarred(alpha: float, beta: float, x, y) -> float:\n",
    "    \"\"\"Доля отклонения в y, улавливаемая моделью, которая равна '1 - доля отклонения в y, не улавливаемая моделью'\"\"\"\n",
    "    return 1.0 - (sum_of_sqerrors(alpha, beta, x, y) / total_sum_of_squares(y))"
   ]
  },
  {
   "cell_type": "code",
   "execution_count": 60,
   "id": "1541c7c2",
   "metadata": {},
   "outputs": [
    {
     "name": "stdout",
     "output_type": "stream",
     "text": [
      "1.0\n"
     ]
    }
   ],
   "source": [
    "rsq = r_squarred(-5, 3, x, y)\n",
    "print(rsq)"
   ]
  },
  {
   "cell_type": "markdown",
   "id": "b51bb8a9",
   "metadata": {},
   "source": [
    "Как видно, коэффициент детерминации для заданных выборок x, y и параметров alpha и beta равен 1, следовательно составленная регрессионная модель максимально точна"
   ]
  }
 ],
 "metadata": {
  "kernelspec": {
   "display_name": "Python 3 (ipykernel)",
   "language": "python",
   "name": "python3"
  },
  "language_info": {
   "codemirror_mode": {
    "name": "ipython",
    "version": 3
   },
   "file_extension": ".py",
   "mimetype": "text/x-python",
   "name": "python",
   "nbconvert_exporter": "python",
   "pygments_lexer": "ipython3",
   "version": "3.11.5"
  }
 },
 "nbformat": 4,
 "nbformat_minor": 5
}
